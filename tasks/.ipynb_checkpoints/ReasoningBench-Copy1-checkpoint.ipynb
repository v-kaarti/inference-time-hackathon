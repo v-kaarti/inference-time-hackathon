{
 "cells": [
  {
   "cell_type": "markdown",
   "id": "33397559-f253-448f-b40d-fd293b6b5f16",
   "metadata": {},
   "source": [
    "## Goal: Run benchmark on stanfordnlp/SHP"
   ]
  },
  {
   "cell_type": "code",
   "execution_count": 1,
   "id": "17733564-7fe2-4e9d-bf8b-5706a653bbe3",
   "metadata": {},
   "outputs": [
    {
     "data": {
      "application/vnd.jupyter.widget-view+json": {
       "model_id": "c8c6578254c844649bde31122f68d048",
       "version_major": 2,
       "version_minor": 0
      },
      "text/plain": [
       "README.md:   0%|          | 0.00/19.1k [00:00<?, ?B/s]"
      ]
     },
     "metadata": {},
     "output_type": "display_data"
    },
    {
     "data": {
      "application/vnd.jupyter.widget-view+json": {
       "model_id": "34e55a2a0c5846f49ba3f7f614f72a84",
       "version_major": 2,
       "version_minor": 0
      },
      "text/plain": [
       "Resolving data files:   0%|          | 0/18 [00:00<?, ?it/s]"
      ]
     },
     "metadata": {},
     "output_type": "display_data"
    },
    {
     "data": {
      "application/vnd.jupyter.widget-view+json": {
       "model_id": "fa976b7c207e47daa76a2d633ffd411a",
       "version_major": 2,
       "version_minor": 0
      },
      "text/plain": [
       "Resolving data files:   0%|          | 0/18 [00:00<?, ?it/s]"
      ]
     },
     "metadata": {},
     "output_type": "display_data"
    },
    {
     "data": {
      "application/vnd.jupyter.widget-view+json": {
       "model_id": "4b66e88b886d4ddc859c9f20c85221ae",
       "version_major": 2,
       "version_minor": 0
      },
      "text/plain": [
       "Resolving data files:   0%|          | 0/18 [00:00<?, ?it/s]"
      ]
     },
     "metadata": {},
     "output_type": "display_data"
    },
    {
     "data": {
      "application/vnd.jupyter.widget-view+json": {
       "model_id": "d7651e3e884b4c30bd5b40ef9c58c931",
       "version_major": 2,
       "version_minor": 0
      },
      "text/plain": [
       "Downloading data:   0%|          | 0/18 [00:00<?, ?files/s]"
      ]
     },
     "metadata": {},
     "output_type": "display_data"
    },
    {
     "data": {
      "application/vnd.jupyter.widget-view+json": {
       "model_id": "320a403ad7c246829fe3c88ed8c00fed",
       "version_major": 2,
       "version_minor": 0
      },
      "text/plain": [
       "train.json:   0%|          | 0.00/69.4M [00:00<?, ?B/s]"
      ]
     },
     "metadata": {},
     "output_type": "display_data"
    },
    {
     "data": {
      "application/vnd.jupyter.widget-view+json": {
       "model_id": "b8a9b1659f5c4811b92ac8d79326f0c2",
       "version_major": 2,
       "version_minor": 0
      },
      "text/plain": [
       "askanthropology%2Ftrain.json:   0%|          | 0.00/9.08M [00:00<?, ?B/s]"
      ]
     },
     "metadata": {},
     "output_type": "display_data"
    },
    {
     "name": "stderr",
     "output_type": "stream",
     "text": [
      "Error while downloading from https://huggingface.co/datasets/stanfordnlp/SHP/resolve/e94b5f32602712d78ed494fe79105b1959396686/askanthropology/train.json: HTTPSConnectionPool(host='huggingface.co', port=443): Read timed out.\n",
      "Trying to resume download...\n"
     ]
    },
    {
     "data": {
      "application/vnd.jupyter.widget-view+json": {
       "model_id": "1b541dd26a2946a59a381d59b215a810",
       "version_major": 2,
       "version_minor": 0
      },
      "text/plain": [
       "askanthropology%2Ftrain.json:   0%|          | 0.00/9.08M [00:00<?, ?B/s]"
      ]
     },
     "metadata": {},
     "output_type": "display_data"
    },
    {
     "data": {
      "application/vnd.jupyter.widget-view+json": {
       "model_id": "a07bd91a3d434d289d31df07d8279887",
       "version_major": 2,
       "version_minor": 0
      },
      "text/plain": [
       "train.json:   0%|          | 0.00/60.7M [00:00<?, ?B/s]"
      ]
     },
     "metadata": {},
     "output_type": "display_data"
    },
    {
     "data": {
      "application/vnd.jupyter.widget-view+json": {
       "model_id": "81486ea717564983ac61f3bba49ac0cc",
       "version_major": 2,
       "version_minor": 0
      },
      "text/plain": [
       "askcarguys%2Ftrain.json:   0%|          | 0.00/4.67M [00:00<?, ?B/s]"
      ]
     },
     "metadata": {},
     "output_type": "display_data"
    },
    {
     "data": {
      "application/vnd.jupyter.widget-view+json": {
       "model_id": "d78f7571f53443a7ab4007e76b3a5d24",
       "version_major": 2,
       "version_minor": 0
      },
      "text/plain": [
       "train.json:   0%|          | 0.00/71.3M [00:00<?, ?B/s]"
      ]
     },
     "metadata": {},
     "output_type": "display_data"
    },
    {
     "data": {
      "application/vnd.jupyter.widget-view+json": {
       "model_id": "42e2d2ee44504ba28263098be7da9b75",
       "version_major": 2,
       "version_minor": 0
      },
      "text/plain": [
       "train.json:   0%|          | 0.00/21.2M [00:00<?, ?B/s]"
      ]
     },
     "metadata": {},
     "output_type": "display_data"
    },
    {
     "data": {
      "application/vnd.jupyter.widget-view+json": {
       "model_id": "afaaaf3aa9a441f681a6a0aa03695547",
       "version_major": 2,
       "version_minor": 0
      },
      "text/plain": [
       "train.json:   0%|          | 0.00/102M [00:00<?, ?B/s]"
      ]
     },
     "metadata": {},
     "output_type": "display_data"
    },
    {
     "data": {
      "application/vnd.jupyter.widget-view+json": {
       "model_id": "bfa1a2e76c0e42849e001cd51de7955f",
       "version_major": 2,
       "version_minor": 0
      },
      "text/plain": [
       "train.json:   0%|          | 0.00/16.5M [00:00<?, ?B/s]"
      ]
     },
     "metadata": {},
     "output_type": "display_data"
    },
    {
     "data": {
      "application/vnd.jupyter.widget-view+json": {
       "model_id": "be84489ec84e4b02a89100f935d2858b",
       "version_major": 2,
       "version_minor": 0
      },
      "text/plain": [
       "train.json:   0%|          | 0.00/19.3M [00:00<?, ?B/s]"
      ]
     },
     "metadata": {},
     "output_type": "display_data"
    },
    {
     "data": {
      "application/vnd.jupyter.widget-view+json": {
       "model_id": "9ab2eca9cea64f218046ee3e8e82c65c",
       "version_major": 2,
       "version_minor": 0
      },
      "text/plain": [
       "train.json:   0%|          | 0.00/24.0M [00:00<?, ?B/s]"
      ]
     },
     "metadata": {},
     "output_type": "display_data"
    },
    {
     "data": {
      "application/vnd.jupyter.widget-view+json": {
       "model_id": "1332e0829580424fa1f910774fe96106",
       "version_major": 2,
       "version_minor": 0
      },
      "text/plain": [
       "train.json:   0%|          | 0.00/13.0M [00:00<?, ?B/s]"
      ]
     },
     "metadata": {},
     "output_type": "display_data"
    },
    {
     "data": {
      "application/vnd.jupyter.widget-view+json": {
       "model_id": "4be7373c5d434f26b12ad115d6f7036d",
       "version_major": 2,
       "version_minor": 0
      },
      "text/plain": [
       "train.json:   0%|          | 0.00/31.5M [00:00<?, ?B/s]"
      ]
     },
     "metadata": {},
     "output_type": "display_data"
    },
    {
     "data": {
      "application/vnd.jupyter.widget-view+json": {
       "model_id": "7e2a30af509845d985d65be558db865c",
       "version_major": 2,
       "version_minor": 0
      },
      "text/plain": [
       "train.json:   0%|          | 0.00/44.0M [00:00<?, ?B/s]"
      ]
     },
     "metadata": {},
     "output_type": "display_data"
    },
    {
     "data": {
      "application/vnd.jupyter.widget-view+json": {
       "model_id": "9b07530966f74b74bb900054546d4ad2",
       "version_major": 2,
       "version_minor": 0
      },
      "text/plain": [
       "asksocialscience%2Ftrain.json:   0%|          | 0.00/7.15M [00:00<?, ?B/s]"
      ]
     },
     "metadata": {},
     "output_type": "display_data"
    },
    {
     "data": {
      "application/vnd.jupyter.widget-view+json": {
       "model_id": "105b96341ea740ce8bda95e6677813c9",
       "version_major": 2,
       "version_minor": 0
      },
      "text/plain": [
       "askvet%2Ftrain.json:   0%|          | 0.00/7.17M [00:00<?, ?B/s]"
      ]
     },
     "metadata": {},
     "output_type": "display_data"
    },
    {
     "data": {
      "application/vnd.jupyter.widget-view+json": {
       "model_id": "d06af0d657324d78912444741ad944ac",
       "version_major": 2,
       "version_minor": 0
      },
      "text/plain": [
       "train.json:   0%|          | 0.00/149M [00:00<?, ?B/s]"
      ]
     },
     "metadata": {},
     "output_type": "display_data"
    },
    {
     "data": {
      "application/vnd.jupyter.widget-view+json": {
       "model_id": "1fcb6b0d171549d592dfeb8ee3237b8d",
       "version_major": 2,
       "version_minor": 0
      },
      "text/plain": [
       "train.json:   0%|          | 0.00/38.2M [00:00<?, ?B/s]"
      ]
     },
     "metadata": {},
     "output_type": "display_data"
    },
    {
     "data": {
      "application/vnd.jupyter.widget-view+json": {
       "model_id": "259d24fbf03a40e38e95bb2c0ec22e4d",
       "version_major": 2,
       "version_minor": 0
      },
      "text/plain": [
       "train.json:   0%|          | 0.00/61.0M [00:00<?, ?B/s]"
      ]
     },
     "metadata": {},
     "output_type": "display_data"
    },
    {
     "data": {
      "application/vnd.jupyter.widget-view+json": {
       "model_id": "6deebeb84724460699b6223e4b6387c4",
       "version_major": 2,
       "version_minor": 0
      },
      "text/plain": [
       "Downloading data:   0%|          | 0/18 [00:00<?, ?files/s]"
      ]
     },
     "metadata": {},
     "output_type": "display_data"
    },
    {
     "data": {
      "application/vnd.jupyter.widget-view+json": {
       "model_id": "d0759f1444db4a1598d57f33a9a2a30a",
       "version_major": 2,
       "version_minor": 0
      },
      "text/plain": [
       "askacademia%2Fvalidation.json:   0%|          | 0.00/5.06M [00:00<?, ?B/s]"
      ]
     },
     "metadata": {},
     "output_type": "display_data"
    },
    {
     "data": {
      "application/vnd.jupyter.widget-view+json": {
       "model_id": "84177f70ff79417585458d92be5094e6",
       "version_major": 2,
       "version_minor": 0
      },
      "text/plain": [
       "askcarguys%2Fvalidation.json:   0%|          | 0.00/206k [00:00<?, ?B/s]"
      ]
     },
     "metadata": {},
     "output_type": "display_data"
    },
    {
     "data": {
      "application/vnd.jupyter.widget-view+json": {
       "model_id": "1feb535afb5a46429b09756d285022cc",
       "version_major": 2,
       "version_minor": 0
      },
      "text/plain": [
       "asksocialscience%2Fvalidation.json:   0%|          | 0.00/296k [00:00<?, ?B/s]"
      ]
     },
     "metadata": {},
     "output_type": "display_data"
    },
    {
     "data": {
      "application/vnd.jupyter.widget-view+json": {
       "model_id": "fc97de85e65d4b6ebbf152f867f8722b",
       "version_major": 2,
       "version_minor": 0
      },
      "text/plain": [
       "askdocs%2Fvalidation.json:   0%|          | 0.00/715k [00:00<?, ?B/s]"
      ]
     },
     "metadata": {},
     "output_type": "display_data"
    },
    {
     "data": {
      "application/vnd.jupyter.widget-view+json": {
       "model_id": "b3cae5229e43445da808220bbde2d25b",
       "version_major": 2,
       "version_minor": 0
      },
      "text/plain": [
       "askbaking%2Fvalidation.json:   0%|          | 0.00/3.03M [00:00<?, ?B/s]"
      ]
     },
     "metadata": {},
     "output_type": "display_data"
    },
    {
     "data": {
      "application/vnd.jupyter.widget-view+json": {
       "model_id": "eb6a496fee5f4f10aa716fdf29a0a4a6",
       "version_major": 2,
       "version_minor": 0
      },
      "text/plain": [
       "askanthropology%2Fvalidation.json:   0%|          | 0.00/565k [00:00<?, ?B/s]"
      ]
     },
     "metadata": {},
     "output_type": "display_data"
    },
    {
     "data": {
      "application/vnd.jupyter.widget-view+json": {
       "model_id": "f6d60aec256b4a48b51c305f0572de65",
       "version_major": 2,
       "version_minor": 0
      },
      "text/plain": [
       "askengineers%2Fvalidation.json:   0%|          | 0.00/5.09M [00:00<?, ?B/s]"
      ]
     },
     "metadata": {},
     "output_type": "display_data"
    },
    {
     "data": {
      "application/vnd.jupyter.widget-view+json": {
       "model_id": "b3fea75de63b4023809846f629d80cef",
       "version_major": 2,
       "version_minor": 0
      },
      "text/plain": [
       "askhr%2Fvalidation.json:   0%|          | 0.00/1.27M [00:00<?, ?B/s]"
      ]
     },
     "metadata": {},
     "output_type": "display_data"
    },
    {
     "data": {
      "application/vnd.jupyter.widget-view+json": {
       "model_id": "6811cfb56cb74c88a9062b860d7c4ce9",
       "version_major": 2,
       "version_minor": 0
      },
      "text/plain": [
       "askculinary%2Fvalidation.json:   0%|          | 0.00/3.07M [00:00<?, ?B/s]"
      ]
     },
     "metadata": {},
     "output_type": "display_data"
    },
    {
     "data": {
      "application/vnd.jupyter.widget-view+json": {
       "model_id": "5639c7b5029449d3a70e851b066965d8",
       "version_major": 2,
       "version_minor": 0
      },
      "text/plain": [
       "askphilosophy%2Fvalidation.json:   0%|          | 0.00/1.34M [00:00<?, ?B/s]"
      ]
     },
     "metadata": {},
     "output_type": "display_data"
    },
    {
     "data": {
      "application/vnd.jupyter.widget-view+json": {
       "model_id": "5f7b8da153634e44b47be780557eaf3c",
       "version_major": 2,
       "version_minor": 0
      },
      "text/plain": [
       "asksciencefiction%2Fvalidation.json:   0%|          | 0.00/2.35M [00:00<?, ?B/s]"
      ]
     },
     "metadata": {},
     "output_type": "display_data"
    },
    {
     "data": {
      "application/vnd.jupyter.widget-view+json": {
       "model_id": "5c4f19be66a6451fbbeb246cafa82111",
       "version_major": 2,
       "version_minor": 0
      },
      "text/plain": [
       "askhistorians%2Fvalidation.json:   0%|          | 0.00/474k [00:00<?, ?B/s]"
      ]
     },
     "metadata": {},
     "output_type": "display_data"
    },
    {
     "data": {
      "application/vnd.jupyter.widget-view+json": {
       "model_id": "01106556ac064d338b593e1c9b29ba95",
       "version_major": 2,
       "version_minor": 0
      },
      "text/plain": [
       "changemyview%2Fvalidation.json:   0%|          | 0.00/6.71M [00:00<?, ?B/s]"
      ]
     },
     "metadata": {},
     "output_type": "display_data"
    },
    {
     "data": {
      "application/vnd.jupyter.widget-view+json": {
       "model_id": "59549045cc854335b655b8ea037eae7b",
       "version_major": 2,
       "version_minor": 0
      },
      "text/plain": [
       "explainlikeimfive%2Fvalidation.json:   0%|          | 0.00/2.05M [00:00<?, ?B/s]"
      ]
     },
     "metadata": {},
     "output_type": "display_data"
    },
    {
     "data": {
      "application/vnd.jupyter.widget-view+json": {
       "model_id": "277ea2b299444a5dad18a807c5eb9568",
       "version_major": 2,
       "version_minor": 0
      },
      "text/plain": [
       "askscience%2Fvalidation.json:   0%|          | 0.00/2.07M [00:00<?, ?B/s]"
      ]
     },
     "metadata": {},
     "output_type": "display_data"
    },
    {
     "data": {
      "application/vnd.jupyter.widget-view+json": {
       "model_id": "3b9973f7d5254411bea3a6aaeb01f498",
       "version_major": 2,
       "version_minor": 0
      },
      "text/plain": [
       "askphysics%2Fvalidation.json:   0%|          | 0.00/809k [00:00<?, ?B/s]"
      ]
     },
     "metadata": {},
     "output_type": "display_data"
    },
    {
     "data": {
      "application/vnd.jupyter.widget-view+json": {
       "model_id": "a8fff7a0cc384978befe8d504d7e586e",
       "version_major": 2,
       "version_minor": 0
      },
      "text/plain": [
       "legaladvice%2Fvalidation.json:   0%|          | 0.00/3.37M [00:00<?, ?B/s]"
      ]
     },
     "metadata": {},
     "output_type": "display_data"
    },
    {
     "data": {
      "application/vnd.jupyter.widget-view+json": {
       "model_id": "50eb9282ecaa47e596fd98d8bcee20ea",
       "version_major": 2,
       "version_minor": 0
      },
      "text/plain": [
       "askvet%2Fvalidation.json:   0%|          | 0.00/359k [00:00<?, ?B/s]"
      ]
     },
     "metadata": {},
     "output_type": "display_data"
    },
    {
     "data": {
      "application/vnd.jupyter.widget-view+json": {
       "model_id": "a0d03367fbc248678616b04cc1a44d2e",
       "version_major": 2,
       "version_minor": 0
      },
      "text/plain": [
       "Downloading data:   0%|          | 0/18 [00:00<?, ?files/s]"
      ]
     },
     "metadata": {},
     "output_type": "display_data"
    },
    {
     "data": {
      "application/vnd.jupyter.widget-view+json": {
       "model_id": "1d1cb8c556cc460c88dbd586d36032b8",
       "version_major": 2,
       "version_minor": 0
      },
      "text/plain": [
       "askcarguys%2Ftest.json:   0%|          | 0.00/168k [00:00<?, ?B/s]"
      ]
     },
     "metadata": {},
     "output_type": "display_data"
    },
    {
     "data": {
      "application/vnd.jupyter.widget-view+json": {
       "model_id": "2bee3baa35674344b89c3760f88557c7",
       "version_major": 2,
       "version_minor": 0
      },
      "text/plain": [
       "askbaking%2Ftest.json:   0%|          | 0.00/2.01M [00:00<?, ?B/s]"
      ]
     },
     "metadata": {},
     "output_type": "display_data"
    },
    {
     "data": {
      "application/vnd.jupyter.widget-view+json": {
       "model_id": "5e4b3dae6d244be6990952c3daae6cb1",
       "version_major": 2,
       "version_minor": 0
      },
      "text/plain": [
       "askphysics%2Ftest.json:   0%|          | 0.00/979k [00:00<?, ?B/s]"
      ]
     },
     "metadata": {},
     "output_type": "display_data"
    },
    {
     "data": {
      "application/vnd.jupyter.widget-view+json": {
       "model_id": "00957d2b2fca4d01a33643b1d9bc9d70",
       "version_major": 2,
       "version_minor": 0
      },
      "text/plain": [
       "askdocs%2Ftest.json:   0%|          | 0.00/1.60M [00:00<?, ?B/s]"
      ]
     },
     "metadata": {},
     "output_type": "display_data"
    },
    {
     "data": {
      "application/vnd.jupyter.widget-view+json": {
       "model_id": "b06c059e30b74781bae18b8def34c349",
       "version_major": 2,
       "version_minor": 0
      },
      "text/plain": [
       "askengineers%2Ftest.json:   0%|          | 0.00/5.31M [00:00<?, ?B/s]"
      ]
     },
     "metadata": {},
     "output_type": "display_data"
    },
    {
     "data": {
      "application/vnd.jupyter.widget-view+json": {
       "model_id": "4a5eaa463bec42f09288726b0eb03344",
       "version_major": 2,
       "version_minor": 0
      },
      "text/plain": [
       "askphilosophy%2Ftest.json:   0%|          | 0.00/1.38M [00:00<?, ?B/s]"
      ]
     },
     "metadata": {},
     "output_type": "display_data"
    },
    {
     "data": {
      "application/vnd.jupyter.widget-view+json": {
       "model_id": "90fb076665a8456687ec54ec64b56299",
       "version_major": 2,
       "version_minor": 0
      },
      "text/plain": [
       "askculinary%2Ftest.json:   0%|          | 0.00/3.86M [00:00<?, ?B/s]"
      ]
     },
     "metadata": {},
     "output_type": "display_data"
    },
    {
     "data": {
      "application/vnd.jupyter.widget-view+json": {
       "model_id": "64842973771d478790ced76d50013a71",
       "version_major": 2,
       "version_minor": 0
      },
      "text/plain": [
       "askanthropology%2Ftest.json:   0%|          | 0.00/569k [00:00<?, ?B/s]"
      ]
     },
     "metadata": {},
     "output_type": "display_data"
    },
    {
     "data": {
      "application/vnd.jupyter.widget-view+json": {
       "model_id": "359f5c15dd9e4f2c90cd051f38074eb8",
       "version_major": 2,
       "version_minor": 0
      },
      "text/plain": [
       "askacademia%2Ftest.json:   0%|          | 0.00/3.54M [00:00<?, ?B/s]"
      ]
     },
     "metadata": {},
     "output_type": "display_data"
    },
    {
     "data": {
      "application/vnd.jupyter.widget-view+json": {
       "model_id": "dd3f391eb1ff43f69720beaf3a8b47e6",
       "version_major": 2,
       "version_minor": 0
      },
      "text/plain": [
       "askhr%2Ftest.json:   0%|          | 0.00/879k [00:00<?, ?B/s]"
      ]
     },
     "metadata": {},
     "output_type": "display_data"
    },
    {
     "data": {
      "application/vnd.jupyter.widget-view+json": {
       "model_id": "612aa0b9d5f24679bc476fbe54ba744b",
       "version_major": 2,
       "version_minor": 0
      },
      "text/plain": [
       "askhistorians%2Ftest.json:   0%|          | 0.00/787k [00:00<?, ?B/s]"
      ]
     },
     "metadata": {},
     "output_type": "display_data"
    },
    {
     "data": {
      "application/vnd.jupyter.widget-view+json": {
       "model_id": "942cf3c2250848cf881cc4e0325185e1",
       "version_major": 2,
       "version_minor": 0
      },
      "text/plain": [
       "asksciencefiction%2Ftest.json:   0%|          | 0.00/3.10M [00:00<?, ?B/s]"
      ]
     },
     "metadata": {},
     "output_type": "display_data"
    },
    {
     "data": {
      "application/vnd.jupyter.widget-view+json": {
       "model_id": "4f69457fab3143b3ad27250a20591e42",
       "version_major": 2,
       "version_minor": 0
      },
      "text/plain": [
       "asksocialscience%2Ftest.json:   0%|          | 0.00/573k [00:00<?, ?B/s]"
      ]
     },
     "metadata": {},
     "output_type": "display_data"
    },
    {
     "data": {
      "application/vnd.jupyter.widget-view+json": {
       "model_id": "53b40819418642438ca10aa956d09066",
       "version_major": 2,
       "version_minor": 0
      },
      "text/plain": [
       "askscience%2Ftest.json:   0%|          | 0.00/2.21M [00:00<?, ?B/s]"
      ]
     },
     "metadata": {},
     "output_type": "display_data"
    },
    {
     "data": {
      "application/vnd.jupyter.widget-view+json": {
       "model_id": "d6512f102b5541e8bfda86f431f3b9a3",
       "version_major": 2,
       "version_minor": 0
      },
      "text/plain": [
       "changemyview%2Ftest.json:   0%|          | 0.00/6.84M [00:00<?, ?B/s]"
      ]
     },
     "metadata": {},
     "output_type": "display_data"
    },
    {
     "data": {
      "application/vnd.jupyter.widget-view+json": {
       "model_id": "b7fbe5db4ce24831a3c525ab1b81a9fb",
       "version_major": 2,
       "version_minor": 0
      },
      "text/plain": [
       "explainlikeimfive%2Ftest.json:   0%|          | 0.00/2.06M [00:00<?, ?B/s]"
      ]
     },
     "metadata": {},
     "output_type": "display_data"
    },
    {
     "data": {
      "application/vnd.jupyter.widget-view+json": {
       "model_id": "a881d3ea27ae4af5a2bcd36fb5c4205d",
       "version_major": 2,
       "version_minor": 0
      },
      "text/plain": [
       "askvet%2Ftest.json:   0%|          | 0.00/371k [00:00<?, ?B/s]"
      ]
     },
     "metadata": {},
     "output_type": "display_data"
    },
    {
     "data": {
      "application/vnd.jupyter.widget-view+json": {
       "model_id": "4de7b0a4362c455ebfc51eac251de367",
       "version_major": 2,
       "version_minor": 0
      },
      "text/plain": [
       "legaladvice%2Ftest.json:   0%|          | 0.00/3.07M [00:00<?, ?B/s]"
      ]
     },
     "metadata": {},
     "output_type": "display_data"
    },
    {
     "data": {
      "application/vnd.jupyter.widget-view+json": {
       "model_id": "9e627a9fa78143dfbd04c091df59acc0",
       "version_major": 2,
       "version_minor": 0
      },
      "text/plain": [
       "Generating train split:   0%|          | 0/348718 [00:00<?, ? examples/s]"
      ]
     },
     "metadata": {},
     "output_type": "display_data"
    },
    {
     "data": {
      "application/vnd.jupyter.widget-view+json": {
       "model_id": "829c678ba0464af5887a863be0129634",
       "version_major": 2,
       "version_minor": 0
      },
      "text/plain": [
       "Generating validation split:   0%|          | 0/18436 [00:00<?, ? examples/s]"
      ]
     },
     "metadata": {},
     "output_type": "display_data"
    },
    {
     "data": {
      "application/vnd.jupyter.widget-view+json": {
       "model_id": "b059354a13004c429435ff1a5b4b59c4",
       "version_major": 2,
       "version_minor": 0
      },
      "text/plain": [
       "Generating test split:   0%|          | 0/18409 [00:00<?, ? examples/s]"
      ]
     },
     "metadata": {},
     "output_type": "display_data"
    }
   ],
   "source": [
    "from datasets import load_dataset\n",
    "\n",
    "ds = load_dataset(\"stanfordnlp/SHP\")"
   ]
  },
  {
   "cell_type": "code",
   "execution_count": 5,
   "id": "c435ebe1-638d-4139-839d-6f89528404d0",
   "metadata": {},
   "outputs": [],
   "source": [
    "from transformers import AutoTokenizer, AutoModelForCausalLM\n",
    "\n",
    "tokenizer = AutoTokenizer.from_pretrained(\"deepseek-ai/DeepSeek-R1-Distill-Llama-70B\")\n",
    "# model = AutoModelForCausalLM.from_pretrained(\"deepseek-ai/DeepSeek-R1-Distill-Llama-70B\", device_map = 'auto')"
   ]
  },
  {
   "cell_type": "code",
   "execution_count": 12,
   "id": "c7e233ef-0dca-4ecc-aa07-8a04041723c0",
   "metadata": {},
   "outputs": [],
   "source": [
    "# HYPERPARAMS\n",
    "\n",
    "MAX_LENGTH = 128\n",
    "BATCH_SIZE = 32"
   ]
  },
  {
   "cell_type": "code",
   "execution_count": 4,
   "id": "b7d2afe2-7743-47e7-ba58-1f7cdd5f7bb5",
   "metadata": {},
   "outputs": [
    {
     "data": {
      "text/plain": [
       "Dataset({\n",
       "    features: ['post_id', 'domain', 'upvote_ratio', 'history', 'c_root_id_A', 'c_root_id_B', 'created_at_utc_A', 'created_at_utc_B', 'score_A', 'score_B', 'human_ref_A', 'human_ref_B', 'labels', 'seconds_difference', 'score_ratio'],\n",
       "    num_rows: 18409\n",
       "})"
      ]
     },
     "execution_count": 4,
     "metadata": {},
     "output_type": "execute_result"
    }
   ],
   "source": [
    "ds['test']"
   ]
  },
  {
   "cell_type": "code",
   "execution_count": 17,
   "id": "844af406-e302-4825-be5b-cf2e053274e9",
   "metadata": {},
   "outputs": [],
   "source": [
    " def tokenize_fn(examples):\n",
    "    return tokenizer(\n",
    "        examples[\"history\"], max_length=MAX_LENGTH, padding=True, truncation=True\n",
    "    )\n",
    "\n",
    "tokenized_dataset = ds.map(tokenize_fn, batched=True, num_proc=4)\n",
    "# Labels is 1 if A is preferred\n",
    "tokenized_dataset.set_format(type=\"torch\", columns=[\"input_ids\", \"history\", \"score_A\", \"score_B\", \"labels\", \"human_ref_A\", \"human_ref_B\"])"
   ]
  },
  {
   "cell_type": "code",
   "execution_count": 18,
   "id": "cf280171-8d46-4eb8-91e6-8e054a7ecaff",
   "metadata": {},
   "outputs": [],
   "source": [
    "from torch.utils.data import DataLoader\n",
    "data_loader = DataLoader(\n",
    "    tokenized_dataset['test'], batch_size=BATCH_SIZE\n",
    ")"
   ]
  },
  {
   "cell_type": "code",
   "execution_count": 22,
   "id": "05448c43-7e7e-4edc-bf10-31f8282935fb",
   "metadata": {},
   "outputs": [
    {
     "name": "stdout",
     "output_type": "stream",
     "text": [
      "torch.Size([32, 128])\n"
     ]
    }
   ],
   "source": [
    "for batch_idx, batch in enumerate(data_loader):\n",
    "    print(batch['input_ids'].shape)\n",
    "    \n",
    "    break"
   ]
  },
  {
   "cell_type": "code",
   "execution_count": null,
   "id": "1083e59f-7b8d-4c5e-9cf9-10a833594f1a",
   "metadata": {},
   "outputs": [],
   "source": []
  }
 ],
 "metadata": {
  "kernelspec": {
   "display_name": "Python 3 (ipykernel)",
   "language": "python",
   "name": "python3"
  },
  "language_info": {
   "codemirror_mode": {
    "name": "ipython",
    "version": 3
   },
   "file_extension": ".py",
   "mimetype": "text/x-python",
   "name": "python",
   "nbconvert_exporter": "python",
   "pygments_lexer": "ipython3",
   "version": "3.12.9"
  }
 },
 "nbformat": 4,
 "nbformat_minor": 5
}
