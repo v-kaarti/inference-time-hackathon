{
 "cells": [
  {
   "cell_type": "markdown",
   "id": "33397559-f253-448f-b40d-fd293b6b5f16",
   "metadata": {},
   "source": [
    "## Goal: Run benchmark on stanfordnlp/SHP"
   ]
  },
  {
   "cell_type": "code",
   "execution_count": 1,
   "id": "17733564-7fe2-4e9d-bf8b-5706a653bbe3",
   "metadata": {},
   "outputs": [
    {
     "data": {
      "application/vnd.jupyter.widget-view+json": {
       "model_id": "ce0909b59ca948d0a261d053b50cb9a8",
       "version_major": 2,
       "version_minor": 0
      },
      "text/plain": [
       "README.md:   0%|          | 0.00/19.1k [00:00<?, ?B/s]"
      ]
     },
     "metadata": {},
     "output_type": "display_data"
    },
    {
     "data": {
      "application/vnd.jupyter.widget-view+json": {
       "model_id": "f58e4a63ae7547058abfb8fe843267ae",
       "version_major": 2,
       "version_minor": 0
      },
      "text/plain": [
       "Resolving data files:   0%|          | 0/18 [00:00<?, ?it/s]"
      ]
     },
     "metadata": {},
     "output_type": "display_data"
    },
    {
     "data": {
      "application/vnd.jupyter.widget-view+json": {
       "model_id": "b9c1ce98825d4eb5b4715d9fd4fd2fac",
       "version_major": 2,
       "version_minor": 0
      },
      "text/plain": [
       "Resolving data files:   0%|          | 0/18 [00:00<?, ?it/s]"
      ]
     },
     "metadata": {},
     "output_type": "display_data"
    },
    {
     "data": {
      "application/vnd.jupyter.widget-view+json": {
       "model_id": "4b74c073c66e4df5b004c7dea461a399",
       "version_major": 2,
       "version_minor": 0
      },
      "text/plain": [
       "Resolving data files:   0%|          | 0/18 [00:00<?, ?it/s]"
      ]
     },
     "metadata": {},
     "output_type": "display_data"
    },
    {
     "data": {
      "application/vnd.jupyter.widget-view+json": {
       "model_id": "1f841e058ecf4a71853061166d69989a",
       "version_major": 2,
       "version_minor": 0
      },
      "text/plain": [
       "Downloading data:   0%|          | 0/18 [00:00<?, ?files/s]"
      ]
     },
     "metadata": {},
     "output_type": "display_data"
    },
    {
     "data": {
      "application/vnd.jupyter.widget-view+json": {
       "model_id": "00e5cdcf81974ce780f04859baa0f64f",
       "version_major": 2,
       "version_minor": 0
      },
      "text/plain": [
       "train.json:   0%|          | 0.00/69.4M [00:00<?, ?B/s]"
      ]
     },
     "metadata": {},
     "output_type": "display_data"
    },
    {
     "data": {
      "application/vnd.jupyter.widget-view+json": {
       "model_id": "acbb3b09e3924fdf82fb44b6859e8c49",
       "version_major": 2,
       "version_minor": 0
      },
      "text/plain": [
       "askanthropology%2Ftrain.json:   0%|          | 0.00/9.08M [00:00<?, ?B/s]"
      ]
     },
     "metadata": {},
     "output_type": "display_data"
    },
    {
     "data": {
      "application/vnd.jupyter.widget-view+json": {
       "model_id": "b78aec8de7c0462b8d612d8b7af9cf65",
       "version_major": 2,
       "version_minor": 0
      },
      "text/plain": [
       "train.json:   0%|          | 0.00/60.7M [00:00<?, ?B/s]"
      ]
     },
     "metadata": {},
     "output_type": "display_data"
    },
    {
     "data": {
      "application/vnd.jupyter.widget-view+json": {
       "model_id": "38a5aaadb7c2421abf4a6c8a3911a55b",
       "version_major": 2,
       "version_minor": 0
      },
      "text/plain": [
       "askcarguys%2Ftrain.json:   0%|          | 0.00/4.67M [00:00<?, ?B/s]"
      ]
     },
     "metadata": {},
     "output_type": "display_data"
    },
    {
     "data": {
      "application/vnd.jupyter.widget-view+json": {
       "model_id": "05b16a568b7d4cd7aeb88f9c9b37fdb7",
       "version_major": 2,
       "version_minor": 0
      },
      "text/plain": [
       "train.json:   0%|          | 0.00/71.3M [00:00<?, ?B/s]"
      ]
     },
     "metadata": {},
     "output_type": "display_data"
    },
    {
     "data": {
      "application/vnd.jupyter.widget-view+json": {
       "model_id": "8b2ce826ed6547878975a62d0298224b",
       "version_major": 2,
       "version_minor": 0
      },
      "text/plain": [
       "train.json:   0%|          | 0.00/21.2M [00:00<?, ?B/s]"
      ]
     },
     "metadata": {},
     "output_type": "display_data"
    },
    {
     "data": {
      "application/vnd.jupyter.widget-view+json": {
       "model_id": "835198c8ea7846cfb944717f692e5216",
       "version_major": 2,
       "version_minor": 0
      },
      "text/plain": [
       "train.json:   0%|          | 0.00/102M [00:00<?, ?B/s]"
      ]
     },
     "metadata": {},
     "output_type": "display_data"
    },
    {
     "data": {
      "application/vnd.jupyter.widget-view+json": {
       "model_id": "ecbb5c08b255444caf4062ffe8b44f0f",
       "version_major": 2,
       "version_minor": 0
      },
      "text/plain": [
       "train.json:   0%|          | 0.00/16.5M [00:00<?, ?B/s]"
      ]
     },
     "metadata": {},
     "output_type": "display_data"
    },
    {
     "data": {
      "application/vnd.jupyter.widget-view+json": {
       "model_id": "8df4b2ab46bc4b0fa8c34433e4cbbb1b",
       "version_major": 2,
       "version_minor": 0
      },
      "text/plain": [
       "train.json:   0%|          | 0.00/19.3M [00:00<?, ?B/s]"
      ]
     },
     "metadata": {},
     "output_type": "display_data"
    },
    {
     "data": {
      "application/vnd.jupyter.widget-view+json": {
       "model_id": "2f9d662ec33747389c34c65e26878517",
       "version_major": 2,
       "version_minor": 0
      },
      "text/plain": [
       "train.json:   0%|          | 0.00/24.0M [00:00<?, ?B/s]"
      ]
     },
     "metadata": {},
     "output_type": "display_data"
    },
    {
     "data": {
      "application/vnd.jupyter.widget-view+json": {
       "model_id": "9902dd0263454708993a16b3c11cc8c8",
       "version_major": 2,
       "version_minor": 0
      },
      "text/plain": [
       "train.json:   0%|          | 0.00/13.0M [00:00<?, ?B/s]"
      ]
     },
     "metadata": {},
     "output_type": "display_data"
    },
    {
     "data": {
      "application/vnd.jupyter.widget-view+json": {
       "model_id": "907edafccf7d43a9b598a52c348b92ed",
       "version_major": 2,
       "version_minor": 0
      },
      "text/plain": [
       "train.json:   0%|          | 0.00/31.5M [00:00<?, ?B/s]"
      ]
     },
     "metadata": {},
     "output_type": "display_data"
    },
    {
     "data": {
      "application/vnd.jupyter.widget-view+json": {
       "model_id": "363f9529771e424387cf985ae5e0579e",
       "version_major": 2,
       "version_minor": 0
      },
      "text/plain": [
       "train.json:   0%|          | 0.00/44.0M [00:00<?, ?B/s]"
      ]
     },
     "metadata": {},
     "output_type": "display_data"
    },
    {
     "data": {
      "application/vnd.jupyter.widget-view+json": {
       "model_id": "a29a1bc96b2e4c779c613f1fcc8cbcbf",
       "version_major": 2,
       "version_minor": 0
      },
      "text/plain": [
       "asksocialscience%2Ftrain.json:   0%|          | 0.00/7.15M [00:00<?, ?B/s]"
      ]
     },
     "metadata": {},
     "output_type": "display_data"
    },
    {
     "data": {
      "application/vnd.jupyter.widget-view+json": {
       "model_id": "d9f3397be6814bcea01d774b27afd3bf",
       "version_major": 2,
       "version_minor": 0
      },
      "text/plain": [
       "askvet%2Ftrain.json:   0%|          | 0.00/7.17M [00:00<?, ?B/s]"
      ]
     },
     "metadata": {},
     "output_type": "display_data"
    },
    {
     "data": {
      "application/vnd.jupyter.widget-view+json": {
       "model_id": "8f5d9e91ac5c4253940d6fcee8b193d0",
       "version_major": 2,
       "version_minor": 0
      },
      "text/plain": [
       "train.json:   0%|          | 0.00/149M [00:00<?, ?B/s]"
      ]
     },
     "metadata": {},
     "output_type": "display_data"
    },
    {
     "data": {
      "application/vnd.jupyter.widget-view+json": {
       "model_id": "e022532e9ab3408f9c7f2082803b88e0",
       "version_major": 2,
       "version_minor": 0
      },
      "text/plain": [
       "train.json:   0%|          | 0.00/38.2M [00:00<?, ?B/s]"
      ]
     },
     "metadata": {},
     "output_type": "display_data"
    },
    {
     "data": {
      "application/vnd.jupyter.widget-view+json": {
       "model_id": "c5139e9748e74caf86d35386acbf63bb",
       "version_major": 2,
       "version_minor": 0
      },
      "text/plain": [
       "train.json:   0%|          | 0.00/61.0M [00:00<?, ?B/s]"
      ]
     },
     "metadata": {},
     "output_type": "display_data"
    },
    {
     "data": {
      "application/vnd.jupyter.widget-view+json": {
       "model_id": "36d2eb306e104d65a2822b2ad2ef02f2",
       "version_major": 2,
       "version_minor": 0
      },
      "text/plain": [
       "Downloading data:   0%|          | 0/18 [00:00<?, ?files/s]"
      ]
     },
     "metadata": {},
     "output_type": "display_data"
    },
    {
     "data": {
      "application/vnd.jupyter.widget-view+json": {
       "model_id": "0f91cb74e94d498d81ba0b3c8ec2ca4b",
       "version_major": 2,
       "version_minor": 0
      },
      "text/plain": [
       "askhistorians%2Fvalidation.json:   0%|          | 0.00/474k [00:00<?, ?B/s]"
      ]
     },
     "metadata": {},
     "output_type": "display_data"
    },
    {
     "data": {
      "application/vnd.jupyter.widget-view+json": {
       "model_id": "2063e47f109345b59a4fb456f1d9318a",
       "version_major": 2,
       "version_minor": 0
      },
      "text/plain": [
       "askdocs%2Fvalidation.json:   0%|          | 0.00/715k [00:00<?, ?B/s]"
      ]
     },
     "metadata": {},
     "output_type": "display_data"
    },
    {
     "data": {
      "application/vnd.jupyter.widget-view+json": {
       "model_id": "1d4588e5b01944d181fac680a8839b9e",
       "version_major": 2,
       "version_minor": 0
      },
      "text/plain": [
       "askhr%2Fvalidation.json:   0%|          | 0.00/1.27M [00:00<?, ?B/s]"
      ]
     },
     "metadata": {},
     "output_type": "display_data"
    },
    {
     "data": {
      "application/vnd.jupyter.widget-view+json": {
       "model_id": "02f2363d17644a2fa2532721c34f0b1d",
       "version_major": 2,
       "version_minor": 0
      },
      "text/plain": [
       "askcarguys%2Fvalidation.json:   0%|          | 0.00/206k [00:00<?, ?B/s]"
      ]
     },
     "metadata": {},
     "output_type": "display_data"
    },
    {
     "data": {
      "application/vnd.jupyter.widget-view+json": {
       "model_id": "21041986a9dd4f6d9d68aac10932e62f",
       "version_major": 2,
       "version_minor": 0
      },
      "text/plain": [
       "askphysics%2Fvalidation.json:   0%|          | 0.00/809k [00:00<?, ?B/s]"
      ]
     },
     "metadata": {},
     "output_type": "display_data"
    },
    {
     "data": {
      "application/vnd.jupyter.widget-view+json": {
       "model_id": "dd68185fbce94352b9bfe84b88bbbb05",
       "version_major": 2,
       "version_minor": 0
      },
      "text/plain": [
       "asksocialscience%2Fvalidation.json:   0%|          | 0.00/296k [00:00<?, ?B/s]"
      ]
     },
     "metadata": {},
     "output_type": "display_data"
    },
    {
     "data": {
      "application/vnd.jupyter.widget-view+json": {
       "model_id": "eef2fa52d2a04b0fbd65a0dd405aae6c",
       "version_major": 2,
       "version_minor": 0
      },
      "text/plain": [
       "askacademia%2Fvalidation.json:   0%|          | 0.00/5.06M [00:00<?, ?B/s]"
      ]
     },
     "metadata": {},
     "output_type": "display_data"
    },
    {
     "data": {
      "application/vnd.jupyter.widget-view+json": {
       "model_id": "3b1a793dcc3f47ae81e758a09a566e0e",
       "version_major": 2,
       "version_minor": 0
      },
      "text/plain": [
       "askanthropology%2Fvalidation.json:   0%|          | 0.00/565k [00:00<?, ?B/s]"
      ]
     },
     "metadata": {},
     "output_type": "display_data"
    },
    {
     "data": {
      "application/vnd.jupyter.widget-view+json": {
       "model_id": "eb80694227244c6cb3496bfc2c814ca5",
       "version_major": 2,
       "version_minor": 0
      },
      "text/plain": [
       "askbaking%2Fvalidation.json:   0%|          | 0.00/3.03M [00:00<?, ?B/s]"
      ]
     },
     "metadata": {},
     "output_type": "display_data"
    },
    {
     "data": {
      "application/vnd.jupyter.widget-view+json": {
       "model_id": "3eeb66cce7d348ebb07d116fd7f788fc",
       "version_major": 2,
       "version_minor": 0
      },
      "text/plain": [
       "askvet%2Fvalidation.json:   0%|          | 0.00/359k [00:00<?, ?B/s]"
      ]
     },
     "metadata": {},
     "output_type": "display_data"
    },
    {
     "data": {
      "application/vnd.jupyter.widget-view+json": {
       "model_id": "69931ba46cd048c7a63db342987850e7",
       "version_major": 2,
       "version_minor": 0
      },
      "text/plain": [
       "changemyview%2Fvalidation.json:   0%|          | 0.00/6.71M [00:00<?, ?B/s]"
      ]
     },
     "metadata": {},
     "output_type": "display_data"
    },
    {
     "data": {
      "application/vnd.jupyter.widget-view+json": {
       "model_id": "887abc22ca1541a9b79b86171e1a95aa",
       "version_major": 2,
       "version_minor": 0
      },
      "text/plain": [
       "asksciencefiction%2Fvalidation.json:   0%|          | 0.00/2.35M [00:00<?, ?B/s]"
      ]
     },
     "metadata": {},
     "output_type": "display_data"
    },
    {
     "data": {
      "application/vnd.jupyter.widget-view+json": {
       "model_id": "ac1b7c90407c40a6a349610d8226b249",
       "version_major": 2,
       "version_minor": 0
      },
      "text/plain": [
       "askengineers%2Fvalidation.json:   0%|          | 0.00/5.09M [00:00<?, ?B/s]"
      ]
     },
     "metadata": {},
     "output_type": "display_data"
    },
    {
     "data": {
      "application/vnd.jupyter.widget-view+json": {
       "model_id": "d29436c2b7eb4f2194aee37ab93322bc",
       "version_major": 2,
       "version_minor": 0
      },
      "text/plain": [
       "askscience%2Fvalidation.json:   0%|          | 0.00/2.07M [00:00<?, ?B/s]"
      ]
     },
     "metadata": {},
     "output_type": "display_data"
    },
    {
     "data": {
      "application/vnd.jupyter.widget-view+json": {
       "model_id": "2ba74ba6a86841b98f1c4420141b4a86",
       "version_major": 2,
       "version_minor": 0
      },
      "text/plain": [
       "askphilosophy%2Fvalidation.json:   0%|          | 0.00/1.34M [00:00<?, ?B/s]"
      ]
     },
     "metadata": {},
     "output_type": "display_data"
    },
    {
     "data": {
      "application/vnd.jupyter.widget-view+json": {
       "model_id": "f9bb58df77834967ae589546eb67b20e",
       "version_major": 2,
       "version_minor": 0
      },
      "text/plain": [
       "explainlikeimfive%2Fvalidation.json:   0%|          | 0.00/2.05M [00:00<?, ?B/s]"
      ]
     },
     "metadata": {},
     "output_type": "display_data"
    },
    {
     "data": {
      "application/vnd.jupyter.widget-view+json": {
       "model_id": "d459532890d54f43a30a447c8e9ab4ed",
       "version_major": 2,
       "version_minor": 0
      },
      "text/plain": [
       "legaladvice%2Fvalidation.json:   0%|          | 0.00/3.37M [00:00<?, ?B/s]"
      ]
     },
     "metadata": {},
     "output_type": "display_data"
    },
    {
     "data": {
      "application/vnd.jupyter.widget-view+json": {
       "model_id": "eeb95a40f8104a0d846fb6c90cf5b942",
       "version_major": 2,
       "version_minor": 0
      },
      "text/plain": [
       "askculinary%2Fvalidation.json:   0%|          | 0.00/3.07M [00:00<?, ?B/s]"
      ]
     },
     "metadata": {},
     "output_type": "display_data"
    },
    {
     "data": {
      "application/vnd.jupyter.widget-view+json": {
       "model_id": "0fba75ea435b45b4bb1f671f400f3800",
       "version_major": 2,
       "version_minor": 0
      },
      "text/plain": [
       "Downloading data:   0%|          | 0/18 [00:00<?, ?files/s]"
      ]
     },
     "metadata": {},
     "output_type": "display_data"
    },
    {
     "data": {
      "application/vnd.jupyter.widget-view+json": {
       "model_id": "15c5a871af9a4c6ca6d3c3c6445bb651",
       "version_major": 2,
       "version_minor": 0
      },
      "text/plain": [
       "askdocs%2Ftest.json:   0%|          | 0.00/1.60M [00:00<?, ?B/s]"
      ]
     },
     "metadata": {},
     "output_type": "display_data"
    },
    {
     "data": {
      "application/vnd.jupyter.widget-view+json": {
       "model_id": "e3ee9580cda94b27adc015c5d291acb5",
       "version_major": 2,
       "version_minor": 0
      },
      "text/plain": [
       "askphilosophy%2Ftest.json:   0%|          | 0.00/1.38M [00:00<?, ?B/s]"
      ]
     },
     "metadata": {},
     "output_type": "display_data"
    },
    {
     "data": {
      "application/vnd.jupyter.widget-view+json": {
       "model_id": "90137de7bc964c3caf39fd75f9199604",
       "version_major": 2,
       "version_minor": 0
      },
      "text/plain": [
       "askcarguys%2Ftest.json:   0%|          | 0.00/168k [00:00<?, ?B/s]"
      ]
     },
     "metadata": {},
     "output_type": "display_data"
    },
    {
     "data": {
      "application/vnd.jupyter.widget-view+json": {
       "model_id": "10b823c340054d3abc2207e409385694",
       "version_major": 2,
       "version_minor": 0
      },
      "text/plain": [
       "askanthropology%2Ftest.json:   0%|          | 0.00/569k [00:00<?, ?B/s]"
      ]
     },
     "metadata": {},
     "output_type": "display_data"
    },
    {
     "data": {
      "application/vnd.jupyter.widget-view+json": {
       "model_id": "09bf30e2679147daab232ff35fe3bfbd",
       "version_major": 2,
       "version_minor": 0
      },
      "text/plain": [
       "askculinary%2Ftest.json:   0%|          | 0.00/3.86M [00:00<?, ?B/s]"
      ]
     },
     "metadata": {},
     "output_type": "display_data"
    },
    {
     "data": {
      "application/vnd.jupyter.widget-view+json": {
       "model_id": "b2e5131776f04c66aa1e0033b6bc5c31",
       "version_major": 2,
       "version_minor": 0
      },
      "text/plain": [
       "askacademia%2Ftest.json:   0%|          | 0.00/3.54M [00:00<?, ?B/s]"
      ]
     },
     "metadata": {},
     "output_type": "display_data"
    },
    {
     "data": {
      "application/vnd.jupyter.widget-view+json": {
       "model_id": "851a5274f1af4af3b376aaed7578e0d4",
       "version_major": 2,
       "version_minor": 0
      },
      "text/plain": [
       "askhr%2Ftest.json:   0%|          | 0.00/879k [00:00<?, ?B/s]"
      ]
     },
     "metadata": {},
     "output_type": "display_data"
    },
    {
     "data": {
      "application/vnd.jupyter.widget-view+json": {
       "model_id": "9df8d5e62c104d33b9bc5d0b0d17a593",
       "version_major": 2,
       "version_minor": 0
      },
      "text/plain": [
       "askhistorians%2Ftest.json:   0%|          | 0.00/787k [00:00<?, ?B/s]"
      ]
     },
     "metadata": {},
     "output_type": "display_data"
    },
    {
     "data": {
      "application/vnd.jupyter.widget-view+json": {
       "model_id": "ca4fcf661c3647c7b3aa1013b06df651",
       "version_major": 2,
       "version_minor": 0
      },
      "text/plain": [
       "asksciencefiction%2Ftest.json:   0%|          | 0.00/3.10M [00:00<?, ?B/s]"
      ]
     },
     "metadata": {},
     "output_type": "display_data"
    },
    {
     "data": {
      "application/vnd.jupyter.widget-view+json": {
       "model_id": "f5c38823c2c3462b94a117ba4d7cf377",
       "version_major": 2,
       "version_minor": 0
      },
      "text/plain": [
       "askphysics%2Ftest.json:   0%|          | 0.00/979k [00:00<?, ?B/s]"
      ]
     },
     "metadata": {},
     "output_type": "display_data"
    },
    {
     "data": {
      "application/vnd.jupyter.widget-view+json": {
       "model_id": "681fb424ce164d2a999300f3030eaa3b",
       "version_major": 2,
       "version_minor": 0
      },
      "text/plain": [
       "asksocialscience%2Ftest.json:   0%|          | 0.00/573k [00:00<?, ?B/s]"
      ]
     },
     "metadata": {},
     "output_type": "display_data"
    },
    {
     "data": {
      "application/vnd.jupyter.widget-view+json": {
       "model_id": "84de5285987246be9aa8f598a7b60047",
       "version_major": 2,
       "version_minor": 0
      },
      "text/plain": [
       "changemyview%2Ftest.json:   0%|          | 0.00/6.84M [00:00<?, ?B/s]"
      ]
     },
     "metadata": {},
     "output_type": "display_data"
    },
    {
     "data": {
      "application/vnd.jupyter.widget-view+json": {
       "model_id": "66a5fa7a3a8642619d45623b6b17cee8",
       "version_major": 2,
       "version_minor": 0
      },
      "text/plain": [
       "askengineers%2Ftest.json:   0%|          | 0.00/5.31M [00:00<?, ?B/s]"
      ]
     },
     "metadata": {},
     "output_type": "display_data"
    },
    {
     "data": {
      "application/vnd.jupyter.widget-view+json": {
       "model_id": "b8083025a8c240cba6a49a0a116ab3c9",
       "version_major": 2,
       "version_minor": 0
      },
      "text/plain": [
       "askvet%2Ftest.json:   0%|          | 0.00/371k [00:00<?, ?B/s]"
      ]
     },
     "metadata": {},
     "output_type": "display_data"
    },
    {
     "data": {
      "application/vnd.jupyter.widget-view+json": {
       "model_id": "5d58bd46f03849a9aae732365e1b959d",
       "version_major": 2,
       "version_minor": 0
      },
      "text/plain": [
       "askscience%2Ftest.json:   0%|          | 0.00/2.21M [00:00<?, ?B/s]"
      ]
     },
     "metadata": {},
     "output_type": "display_data"
    },
    {
     "data": {
      "application/vnd.jupyter.widget-view+json": {
       "model_id": "6ded65c6461c4fd99df5546300e67adf",
       "version_major": 2,
       "version_minor": 0
      },
      "text/plain": [
       "askbaking%2Ftest.json:   0%|          | 0.00/2.01M [00:00<?, ?B/s]"
      ]
     },
     "metadata": {},
     "output_type": "display_data"
    },
    {
     "data": {
      "application/vnd.jupyter.widget-view+json": {
       "model_id": "e351abc2839c4f35ae608d7b5c273fa1",
       "version_major": 2,
       "version_minor": 0
      },
      "text/plain": [
       "explainlikeimfive%2Ftest.json:   0%|          | 0.00/2.06M [00:00<?, ?B/s]"
      ]
     },
     "metadata": {},
     "output_type": "display_data"
    },
    {
     "data": {
      "application/vnd.jupyter.widget-view+json": {
       "model_id": "6bc987cb17ed49718411e6e030f60272",
       "version_major": 2,
       "version_minor": 0
      },
      "text/plain": [
       "legaladvice%2Ftest.json:   0%|          | 0.00/3.07M [00:00<?, ?B/s]"
      ]
     },
     "metadata": {},
     "output_type": "display_data"
    },
    {
     "data": {
      "application/vnd.jupyter.widget-view+json": {
       "model_id": "b8f2a026bcd747ec81bc939f9c7fe4e0",
       "version_major": 2,
       "version_minor": 0
      },
      "text/plain": [
       "Generating train split:   0%|          | 0/348718 [00:00<?, ? examples/s]"
      ]
     },
     "metadata": {},
     "output_type": "display_data"
    },
    {
     "data": {
      "application/vnd.jupyter.widget-view+json": {
       "model_id": "bab2ac2e7da54042b87b91af376dcb16",
       "version_major": 2,
       "version_minor": 0
      },
      "text/plain": [
       "Generating validation split:   0%|          | 0/18436 [00:00<?, ? examples/s]"
      ]
     },
     "metadata": {},
     "output_type": "display_data"
    },
    {
     "data": {
      "application/vnd.jupyter.widget-view+json": {
       "model_id": "ec5b6826450d41ae90c84e5e765ad28a",
       "version_major": 2,
       "version_minor": 0
      },
      "text/plain": [
       "Generating test split:   0%|          | 0/18409 [00:00<?, ? examples/s]"
      ]
     },
     "metadata": {},
     "output_type": "display_data"
    }
   ],
   "source": [
    "from datasets import load_dataset\n",
    "\n",
    "ds = load_dataset(\"stanfordnlp/SHP\")"
   ]
  },
  {
   "cell_type": "code",
   "execution_count": null,
   "id": "c435ebe1-638d-4139-839d-6f89528404d0",
   "metadata": {},
   "outputs": [
    {
     "name": "stderr",
     "output_type": "stream",
     "text": [
      "2025-03-01 08:42:28.624683: I tensorflow/core/util/port.cc:153] oneDNN custom operations are on. You may see slightly different numerical results due to floating-point round-off errors from different computation orders. To turn them off, set the environment variable `TF_ENABLE_ONEDNN_OPTS=0`.\n",
      "2025-03-01 08:42:28.638222: E external/local_xla/xla/stream_executor/cuda/cuda_fft.cc:485] Unable to register cuFFT factory: Attempting to register factory for plugin cuFFT when one has already been registered\n",
      "2025-03-01 08:42:28.651045: E external/local_xla/xla/stream_executor/cuda/cuda_dnn.cc:8454] Unable to register cuDNN factory: Attempting to register factory for plugin cuDNN when one has already been registered\n",
      "2025-03-01 08:42:28.653996: E external/local_xla/xla/stream_executor/cuda/cuda_blas.cc:1452] Unable to register cuBLAS factory: Attempting to register factory for plugin cuBLAS when one has already been registered\n",
      "2025-03-01 08:42:28.662922: I tensorflow/core/platform/cpu_feature_guard.cc:210] This TensorFlow binary is optimized to use available CPU instructions in performance-critical operations.\n",
      "To enable the following instructions: AVX2 AVX512F AVX512_VNNI AVX512_BF16 AVX512_FP16 AVX_VNNI AMX_TILE AMX_INT8 AMX_BF16 FMA, in other operations, rebuild TensorFlow with the appropriate compiler flags.\n",
      "2025-03-01 08:42:29.292709: W tensorflow/compiler/tf2tensorrt/utils/py_utils.cc:38] TF-TRT Warning: Could not find TensorRT\n"
     ]
    },
    {
     "data": {
      "application/vnd.jupyter.widget-view+json": {
       "model_id": "e58a0c5cc3874d78837281d3cf573ac1",
       "version_major": 2,
       "version_minor": 0
      },
      "text/plain": [
       "model.safetensors.index.json:   0%|          | 0.00/60.3k [00:00<?, ?B/s]"
      ]
     },
     "metadata": {},
     "output_type": "display_data"
    },
    {
     "data": {
      "application/vnd.jupyter.widget-view+json": {
       "model_id": "74e02cda0fd54c19854fd73f60829b76",
       "version_major": 2,
       "version_minor": 0
      },
      "text/plain": [
       "Downloading shards:   0%|          | 0/17 [00:00<?, ?it/s]"
      ]
     },
     "metadata": {},
     "output_type": "display_data"
    },
    {
     "data": {
      "application/vnd.jupyter.widget-view+json": {
       "model_id": "9c8af58ac5ab4785939f168740ea8007",
       "version_major": 2,
       "version_minor": 0
      },
      "text/plain": [
       "model-00001-of-000017.safetensors:   0%|          | 0.00/8.95G [00:00<?, ?B/s]"
      ]
     },
     "metadata": {},
     "output_type": "display_data"
    },
    {
     "data": {
      "application/vnd.jupyter.widget-view+json": {
       "model_id": "16f811e92c054edb98693e090834a70d",
       "version_major": 2,
       "version_minor": 0
      },
      "text/plain": [
       "model-00002-of-000017.safetensors:   0%|          | 0.00/8.69G [00:00<?, ?B/s]"
      ]
     },
     "metadata": {},
     "output_type": "display_data"
    },
    {
     "data": {
      "application/vnd.jupyter.widget-view+json": {
       "model_id": "9be2990576e945d08028a895f2e8563f",
       "version_major": 2,
       "version_minor": 0
      },
      "text/plain": [
       "model-00003-of-000017.safetensors:   0%|          | 0.00/1.58G [00:00<?, ?B/s]"
      ]
     },
     "metadata": {},
     "output_type": "display_data"
    },
    {
     "data": {
      "application/vnd.jupyter.widget-view+json": {
       "model_id": "2d38b9f627844ea4b0c9bddd0fc9c529",
       "version_major": 2,
       "version_minor": 0
      },
      "text/plain": [
       "model-00004-of-000017.safetensors:   0%|          | 0.00/8.69G [00:00<?, ?B/s]"
      ]
     },
     "metadata": {},
     "output_type": "display_data"
    },
    {
     "data": {
      "application/vnd.jupyter.widget-view+json": {
       "model_id": "f37c258ea9f1449da8ac283fbd87cf5b",
       "version_major": 2,
       "version_minor": 0
      },
      "text/plain": [
       "model-00005-of-000017.safetensors:   0%|          | 0.00/8.42G [00:00<?, ?B/s]"
      ]
     },
     "metadata": {},
     "output_type": "display_data"
    },
    {
     "data": {
      "application/vnd.jupyter.widget-view+json": {
       "model_id": "38a7b5181ca64a5ba6a7b6fd295b015d",
       "version_major": 2,
       "version_minor": 0
      },
      "text/plain": [
       "model-00006-of-000017.safetensors:   0%|          | 0.00/8.69G [00:00<?, ?B/s]"
      ]
     },
     "metadata": {},
     "output_type": "display_data"
    },
    {
     "data": {
      "application/vnd.jupyter.widget-view+json": {
       "model_id": "e18a5637ea084cb1858d71f9b4ddaa7c",
       "version_major": 2,
       "version_minor": 0
      },
      "text/plain": [
       "model-00007-of-000017.safetensors:   0%|          | 0.00/8.42G [00:00<?, ?B/s]"
      ]
     },
     "metadata": {},
     "output_type": "display_data"
    },
    {
     "data": {
      "application/vnd.jupyter.widget-view+json": {
       "model_id": "3e422cbdbb204e2baa32816593de062e",
       "version_major": 2,
       "version_minor": 0
      },
      "text/plain": [
       "model-00008-of-000017.safetensors:   0%|          | 0.00/8.69G [00:00<?, ?B/s]"
      ]
     },
     "metadata": {},
     "output_type": "display_data"
    },
    {
     "data": {
      "application/vnd.jupyter.widget-view+json": {
       "model_id": "048fec50f92b462196fe31c3824c72a9",
       "version_major": 2,
       "version_minor": 0
      },
      "text/plain": [
       "model-00009-of-000017.safetensors:   0%|          | 0.00/8.42G [00:00<?, ?B/s]"
      ]
     },
     "metadata": {},
     "output_type": "display_data"
    },
    {
     "data": {
      "application/vnd.jupyter.widget-view+json": {
       "model_id": "462a7fd8b0dd418988194748f731ae90",
       "version_major": 2,
       "version_minor": 0
      },
      "text/plain": [
       "model-00010-of-000017.safetensors:   0%|          | 0.00/8.69G [00:00<?, ?B/s]"
      ]
     },
     "metadata": {},
     "output_type": "display_data"
    },
    {
     "data": {
      "application/vnd.jupyter.widget-view+json": {
       "model_id": "108031d0e52f4eb7bb97f58eff413f7b",
       "version_major": 2,
       "version_minor": 0
      },
      "text/plain": [
       "model-00011-of-000017.safetensors:   0%|          | 0.00/8.42G [00:00<?, ?B/s]"
      ]
     },
     "metadata": {},
     "output_type": "display_data"
    },
    {
     "data": {
      "application/vnd.jupyter.widget-view+json": {
       "model_id": "cb3feaa327fe45e6be5b058939bb88ac",
       "version_major": 2,
       "version_minor": 0
      },
      "text/plain": [
       "model-00012-of-000017.safetensors:   0%|          | 0.00/8.69G [00:00<?, ?B/s]"
      ]
     },
     "metadata": {},
     "output_type": "display_data"
    },
    {
     "data": {
      "application/vnd.jupyter.widget-view+json": {
       "model_id": "c03f3e37254a446296d6cde5709c5e2a",
       "version_major": 2,
       "version_minor": 0
      },
      "text/plain": [
       "model-00013-of-000017.safetensors:   0%|          | 0.00/8.42G [00:00<?, ?B/s]"
      ]
     },
     "metadata": {},
     "output_type": "display_data"
    },
    {
     "data": {
      "application/vnd.jupyter.widget-view+json": {
       "model_id": "ce87ed0972d34d17b6c72861febd0447",
       "version_major": 2,
       "version_minor": 0
      },
      "text/plain": [
       "model-00014-of-000017.safetensors:   0%|          | 0.00/8.69G [00:00<?, ?B/s]"
      ]
     },
     "metadata": {},
     "output_type": "display_data"
    },
    {
     "data": {
      "application/vnd.jupyter.widget-view+json": {
       "model_id": "6c7a0af0197342bfad38ef7cb382a091",
       "version_major": 2,
       "version_minor": 0
      },
      "text/plain": [
       "model-00015-of-000017.safetensors:   0%|          | 0.00/8.42G [00:00<?, ?B/s]"
      ]
     },
     "metadata": {},
     "output_type": "display_data"
    },
    {
     "data": {
      "application/vnd.jupyter.widget-view+json": {
       "model_id": "115e2fcc9b9046f39a267f31f92bc3d5",
       "version_major": 2,
       "version_minor": 0
      },
      "text/plain": [
       "model-00016-of-000017.safetensors:   0%|          | 0.00/8.69G [00:00<?, ?B/s]"
      ]
     },
     "metadata": {},
     "output_type": "display_data"
    },
    {
     "data": {
      "application/vnd.jupyter.widget-view+json": {
       "model_id": "b71484840f154ea8839f5354f2cf0662",
       "version_major": 2,
       "version_minor": 0
      },
      "text/plain": [
       "model-00017-of-000017.safetensors:   0%|          | 0.00/10.5G [00:00<?, ?B/s]"
      ]
     },
     "metadata": {},
     "output_type": "display_data"
    }
   ],
   "source": [
    "from transformers import AutoTokenizer, AutoModelForCausalLM\n",
    "\n",
    "tokenizer = AutoTokenizer.from_pretrained(\"deepseek-ai/DeepSeek-R1-Distill-Llama-70B\")\n",
    "model = AutoModelForCausalLM.from_pretrained(\"deepseek-ai/DeepSeek-R1-Distill-Llama-70B\", device_map = 'auto')"
   ]
  },
  {
   "cell_type": "code",
   "execution_count": 3,
   "id": "b7d2afe2-7743-47e7-ba58-1f7cdd5f7bb5",
   "metadata": {},
   "outputs": [
    {
     "data": {
      "text/plain": [
       "Dataset({\n",
       "    features: ['post_id', 'domain', 'upvote_ratio', 'history', 'c_root_id_A', 'c_root_id_B', 'created_at_utc_A', 'created_at_utc_B', 'score_A', 'score_B', 'human_ref_A', 'human_ref_B', 'labels', 'seconds_difference', 'score_ratio'],\n",
       "    num_rows: 18409\n",
       "})"
      ]
     },
     "execution_count": 3,
     "metadata": {},
     "output_type": "execute_result"
    }
   ],
   "source": [
    "ds['test']"
   ]
  },
  {
   "cell_type": "code",
   "execution_count": null,
   "id": "844af406-e302-4825-be5b-cf2e053274e9",
   "metadata": {},
   "outputs": [],
   "source": []
  }
 ],
 "metadata": {
  "kernelspec": {
   "display_name": "Python 3 (ipykernel)",
   "language": "python",
   "name": "python3"
  },
  "language_info": {
   "codemirror_mode": {
    "name": "ipython",
    "version": 3
   },
   "file_extension": ".py",
   "mimetype": "text/x-python",
   "name": "python",
   "nbconvert_exporter": "python",
   "pygments_lexer": "ipython3",
   "version": "3.12.9"
  }
 },
 "nbformat": 4,
 "nbformat_minor": 5
}
